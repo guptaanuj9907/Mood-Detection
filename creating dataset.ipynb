{
 "cells": [
  {
   "cell_type": "code",
   "execution_count": 24,
   "metadata": {},
   "outputs": [],
   "source": [
    "import cv2\n",
    "import numpy as np\n",
    "import os"
   ]
  },
  {
   "cell_type": "code",
   "execution_count": 25,
   "metadata": {},
   "outputs": [
    {
     "name": "stdout",
     "output_type": "stream",
     "text": [
      "enter user id1\n",
      "(480, 640, 3)\n",
      "281 261 172 172\n",
      "(480, 640, 3)\n",
      "278 261 168 168\n",
      "(480, 640, 3)\n",
      "282 259 173 173\n",
      "(480, 640, 3)\n",
      "280 261 174 174\n",
      "(480, 640, 3)\n",
      "278 259 177 177\n",
      "(480, 640, 3)\n",
      "276 263 176 176\n",
      "(480, 640, 3)\n",
      "278 266 169 169\n",
      "(480, 640, 3)\n",
      "280 269 167 167\n",
      "(480, 640, 3)\n",
      "269 262 185 185\n",
      "(480, 640, 3)\n",
      "271 266 184 184\n"
     ]
    }
   ],
   "source": [
    "face_clasiifier=cv2.CascadeClassifier(\"C:/Users/CG-DTE/AppData/Local/Programs/Python/Python37/Scripts/OpenCV/Face Detection/haarcascade_frontalface_default.xml\")\\\n",
    "# path =\"dataset\"\n",
    "cap=cv2.VideoCapture(0)\n",
    "sample=0\n",
    "id=input(\"enter user id\")\n",
    "while True:\n",
    "    sample+=1\n",
    "    ret,frame=cap.read()\n",
    "    print(frame.shape)\n",
    "    grey=cv2.cvtColor(frame,cv2.COLOR_BGR2GRAY)\n",
    "    face=face_clasiifier.detectMultiScale(grey,1.3,5)\n",
    "    for f in face:\n",
    "        x,y,w,h=f[:]\n",
    "        print(x,y,w,h)\n",
    "        cv2.imwrite('C:/Users/CG-DTE/AppData/Local/Programs/Python/Python37/Scripts/OpenCV/Mood Detection Project\\dataset/'+'user'+\".\"+str(id)+'.'+str(sample)+'.jpg',grey[y:y+h,x:x+w])\n",
    "        cv2.rectangle(frame,(x,y),(x+w,y+h),(0,255,0),3)\n",
    "    cv2.imshow('capture',frame)\n",
    "    if cv2.waitKey(1)==13 or sample==10:\n",
    "        break\n",
    "cap.release()\n",
    "cv2.destroyAllWindows()\n"
   ]
  },
  {
   "cell_type": "code",
   "execution_count": null,
   "metadata": {},
   "outputs": [],
   "source": []
  }
 ],
 "metadata": {
  "kernelspec": {
   "display_name": "Python 3",
   "language": "python",
   "name": "python3"
  },
  "language_info": {
   "codemirror_mode": {
    "name": "ipython",
    "version": 3
   },
   "file_extension": ".py",
   "mimetype": "text/x-python",
   "name": "python",
   "nbconvert_exporter": "python",
   "pygments_lexer": "ipython3",
   "version": "3.7.5"
  }
 },
 "nbformat": 4,
 "nbformat_minor": 4
}
