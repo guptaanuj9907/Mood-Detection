{
 "cells": [
  {
   "cell_type": "code",
   "execution_count": 1,
   "metadata": {},
   "outputs": [],
   "source": [
    "import cv2\n",
    "import numpy as np\n",
    "import os\n",
    "from PIL import Image"
   ]
  },
  {
   "cell_type": "code",
   "execution_count": null,
   "metadata": {},
   "outputs": [],
   "source": [
    "face_clasiifier=cv2.CascadeClassifier(\"C:/Users/CG-DTE/AppData/Local/Programs/Python/Python37/Scripts/OpenCV/Face Detection/haarcascade_frontalface_default.xml\")\\\n",
    "rec=cv2.read(\"C:/Users/CG-DTE/AppData/Local/Programs/Python/Python37/Scripts/OpenCV/Mood Detection Project/recogniser.yml\")\n",
    "rec=rec=cv2.face.LBPHFaceRecognizer_create()\n",
    "cap=cv2.VideoCapture(0)\n",
    "\n",
    "while True: \n",
    "    ret,frame=cap.read()\n",
    "    grey=cv2.cvtColor(frame,cv2.COLOR_BGR2GRAY)\n",
    "    face=face_clasiifier.detectMultiScale(grey,1.3,5)\n",
    "    for f in face:\n",
    "        x,y,w,h=f[:]\n",
    "        print(x,y,w,h)\n",
    "        rec.pre\n",
    "        cv2.rectangle(frame,(x,y),(x+w,y+h),(0,255,0),3)\n",
    "    cv2.imshow('capture',frame)\n",
    "    if cv2.waitKey(1)==13 or sample==20:\n",
    "        break\n",
    "cap.release()\n",
    "cv2.destroyAllWindows()\n"
   ]
  }
 ],
 "metadata": {
  "kernelspec": {
   "display_name": "Python 3",
   "language": "python",
   "name": "python3"
  },
  "language_info": {
   "codemirror_mode": {
    "name": "ipython",
    "version": 3
   },
   "file_extension": ".py",
   "mimetype": "text/x-python",
   "name": "python",
   "nbconvert_exporter": "python",
   "pygments_lexer": "ipython3",
   "version": "3.7.5"
  }
 },
 "nbformat": 4,
 "nbformat_minor": 4
}
